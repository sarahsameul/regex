{
 "cells": [
  {
   "cell_type": "code",
   "execution_count": 6,
   "id": "630352ab-3b03-4d81-ba1b-c1b82ddcb41c",
   "metadata": {},
   "outputs": [
    {
     "name": "stdout",
     "output_type": "stream",
     "text": [
      "Yes we have a match\n"
     ]
    }
   ],
   "source": [
    "import re\n",
    "txt=\"The rain in Spain\"\n",
    "x=re.search(\"^The.*Spain$\" ,txt)\n",
    "if x:\n",
    "    print(\"Yes we have a match\")\n",
    "else:\n",
    "    print(\"No match\")\n"
   ]
  },
  {
   "cell_type": "code",
   "execution_count": 10,
   "id": "3adc77e9-468b-4add-b7b6-2247594c88b3",
   "metadata": {},
   "outputs": [
    {
     "name": "stdout",
     "output_type": "stream",
     "text": [
      "[]\n"
     ]
    }
   ],
   "source": [
    "import re\n",
    "txt=\"The rain in Spain\"\n",
    "x=re.findall(\"Portugal\", txt)\n",
    "print(x)"
   ]
  },
  {
   "cell_type": "code",
   "execution_count": 29,
   "id": "6ae6df2a-17f7-47eb-876c-ebd35d8f37b9",
   "metadata": {},
   "outputs": [
    {
     "name": "stdout",
     "output_type": "stream",
     "text": [
      "['cat', 'dog', 'cat', 'Cat', 'dog']\n"
     ]
    }
   ],
   "source": [
    "import re\n",
    "txt=\"The cat sat on the mat. The dog barked at the cat. Cats and dogs live in harmony.\"\n",
    "x=re.findall(\"cat|dog\", txt, re.IGNORECASE)\n",
    "print(x)"
   ]
  },
  {
   "cell_type": "code",
   "execution_count": 49,
   "id": "376fb3d3-1313-4530-8819-91c50cac0339",
   "metadata": {},
   "outputs": [
    {
     "name": "stdout",
     "output_type": "stream",
     "text": [
      "[]\n"
     ]
    }
   ],
   "source": [
    "import re\n",
    "txt=\"The cat sat on the mat. The dog barked at the catfish. Cats and dogs live in harmony.\"\n",
    "x=re.findall(\"\\bcat\", txt)\n",
    "print(x)"
   ]
  },
  {
   "cell_type": "code",
   "execution_count": 90,
   "id": "6d9f339b-0ed2-4ae0-98eb-ddabccaf8274",
   "metadata": {},
   "outputs": [
    {
     "name": "stdout",
     "output_type": "stream",
     "text": [
      "theHIrainHIinHISpain\n"
     ]
    }
   ],
   "source": [
    "import re\n",
    "txt=\"the rain in Spain\"\n",
    "#x=re.search(\"\\s\", txt)\n",
    "#print(\"The first white space character is located in position:\", x.start())\n",
    "    \n",
    "x=re.sub(r'\\s', 'HI', txt)\n",
    "print(x)"
   ]
  },
  {
   "cell_type": "code",
   "execution_count": 97,
   "id": "27c6799f-3b43-4745-9883-38122966f5ab",
   "metadata": {},
   "outputs": [
    {
     "name": "stdout",
     "output_type": "stream",
     "text": [
      "(12, 17)\n"
     ]
    }
   ],
   "source": [
    "import re\n",
    "txt=\"the rain in Spain\"\n",
    "x=re.search(r\"\\bS\\w+\",txt)\n",
    "print(x.span())"
   ]
  },
  {
   "cell_type": "code",
   "execution_count": null,
   "id": "ad517cd7-7021-4c58-9adf-7662f9cf91ad",
   "metadata": {},
   "outputs": [],
   "source": []
  },
  {
   "cell_type": "code",
   "execution_count": null,
   "id": "3920d02d-2c87-4f2f-8510-6239207ea3b0",
   "metadata": {},
   "outputs": [],
   "source": []
  },
  {
   "cell_type": "code",
   "execution_count": null,
   "id": "97317c79-407b-4ab4-ad01-f5599f10557a",
   "metadata": {},
   "outputs": [],
   "source": []
  },
  {
   "cell_type": "code",
   "execution_count": null,
   "id": "ee38cd43-122b-4213-a1e1-705a3da53c6c",
   "metadata": {},
   "outputs": [],
   "source": []
  }
 ],
 "metadata": {
  "kernelspec": {
   "display_name": "Python 3 (ipykernel)",
   "language": "python",
   "name": "python3"
  },
  "language_info": {
   "codemirror_mode": {
    "name": "ipython",
    "version": 3
   },
   "file_extension": ".py",
   "mimetype": "text/x-python",
   "name": "python",
   "nbconvert_exporter": "python",
   "pygments_lexer": "ipython3",
   "version": "3.12.4"
  }
 },
 "nbformat": 4,
 "nbformat_minor": 5
}
